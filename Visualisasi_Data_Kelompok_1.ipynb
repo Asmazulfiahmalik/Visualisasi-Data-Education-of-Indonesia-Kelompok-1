{
  "nbformat": 4,
  "nbformat_minor": 0,
  "metadata": {
    "colab": {
      "provenance": [],
      "authorship_tag": "ABX9TyMICgqYWdkX64wa91Zi5BFx",
      "include_colab_link": true
    },
    "kernelspec": {
      "name": "python3",
      "display_name": "Python 3"
    },
    "language_info": {
      "name": "python"
    }
  },
  "cells": [
    {
      "cell_type": "markdown",
      "metadata": {
        "id": "view-in-github",
        "colab_type": "text"
      },
      "source": [
        "<a href=\"https://colab.research.google.com/github/Lustiyana/Visualisasi-Data-Education-of-Indonesia-Kelompok-1/blob/main/Visualisasi_Data_Kelompok_1.ipynb\" target=\"_parent\"><img src=\"https://colab.research.google.com/assets/colab-badge.svg\" alt=\"Open In Colab\"/></a>"
      ]
    },
    {
      "cell_type": "markdown",
      "source": [
        "#KELOMPOK 1\n",
        "#VISUALISASI DATA\n",
        "\n",
        "\n",
        "---\n",
        "\n",
        "> TEMA: QUALITY EDUCATION IN INDONESIA\n",
        "\n",
        "\n",
        "\n",
        "\n",
        "### Ketua Proyek:Pasya Alvan Gail Zulvan\n",
        "\n",
        "Anggota:<br>\n",
        "* Asma Zulfiah Malik\n",
        "* Dzikri Wijaya Hartanto\n",
        "* Gail Zulvan\n",
        "* Iqbal Putra Ramadhan\n",
        "* Lustiyana\n",
        "\n",
        "\n",
        "\n",
        "#CRISP-DM\n",
        "(CRoss-Industry Standard Process for Data Mining) merupakan suatu konsorsium perusahaan yang didirikan oleh Komisi Eropa pada tahun 1996 dan telah ditetapkan sebagai proses standar dalam data mining yang dapat diaplikasikan di berbagai sektor industri. Gambar menjelaskan tentang siklus hidup pengembangan data mining.\n",
        "\n",
        "\n",
        "## Business Understanding\n",
        "Tahap pertama dari CRISP DM adalah Business Understanding yang merupakan tahap dimana Business problem didefinisikan dengan sederhana dan tepat. Meskipun terkesan sederhana pada hakikatnya tahapan ini memerlukan penguasaan pada dua bagian yang berbeda yaitu pemahaman terhadap business process termasuk regulasi yang mengaturnya dan pemahaman terhadap cara pengolahannya.\n",
        "\n",
        "\n",
        "---\n",
        "\n",
        "\n",
        "Dalam kasusnya Indonesia masih mengalami ketidak merataan pendidikan sehingga diperlukan upaya untuk menangani hal ini. Salah satu upaya pemerintah adalah dengan penggunaan sistem zonasi. Namun ada hal yang kurang dari sistem zonasi ini adalah ketidakmerataan fasilitas pendidikan di setiap daerah. Maka dari itu diperlukan fokus pembangunan sekolah sekolah untuk berbagai jenjang (SD, SMP, SMA, dan Perguruan Tinggi). Jika kita bisa menginisiasikan wilayah mana saja yang diperlukan pembangunan sekolah tiap jenjang nya maka ini dapat digunakan untuk upaya pemerataan pendidikan di Indonesia.\n",
        "\n",
        "\n",
        "## Data Understanding\n",
        "Data Understanding merupakan proses dimana kita mempertemukan antara data apa yang kita miliki dan data apa yang kita seharusnya perlukan. Bisa jadi suatu project data analisis berawal dari penemuan data-data yang telah ada yang kemudian mengarahkan analist untuk menggali knowledge yang ada pada kumpulan data tersebut. Jenis data akan sangat menentukan jenis algoritma dan tujuan dari data mining yang ingin dicapai\n",
        "\n",
        "\n",
        "\n",
        "---\n",
        "\n",
        "\n",
        "\n"
      ],
      "metadata": {
        "id": "Pva7TDKG5aCh"
      }
    },
    {
      "cell_type": "markdown",
      "source": [],
      "metadata": {
        "id": "RJK4pGzG4MvH"
      }
    }
  ]
}